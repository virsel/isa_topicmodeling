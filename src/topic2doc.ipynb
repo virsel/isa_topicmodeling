{
 "cells": [
  {
   "cell_type": "code",
   "execution_count": 1,
   "metadata": {},
   "outputs": [],
   "source": [
    "from parallel_pandas import ParallelPandas\n",
    "import numpy as np\n",
    "import pandas as pd\n",
    "from topic2doc import get_topics\n",
    "\n",
    "ParallelPandas.initialize(n_cpu=12)"
   ]
  },
  {
   "cell_type": "code",
   "execution_count": 2,
   "metadata": {
    "ExecuteTime": {
     "end_time": "2024-05-18T14:12:47.541930Z",
     "start_time": "2024-05-18T14:12:46.918893Z"
    }
   },
   "outputs": [],
   "source": [
    "data_path = \"../data_input/data_corpus.csv\"\n",
    "df = pd.read_csv(data_path, usecols=[\"id\", \"pub_date\", \"region\", \"lang\", \"text_preproc1\"])"
   ]
  },
  {
   "cell_type": "code",
   "execution_count": 3,
   "metadata": {},
   "outputs": [],
   "source": [
    "dataemb_path = \"../data_input/dataemb_corpus.csv\"\n",
    "df_emb = pd.read_csv(dataemb_path, usecols=[\"id\", \"emb\"])"
   ]
  },
  {
   "cell_type": "code",
   "execution_count": 4,
   "metadata": {},
   "outputs": [],
   "source": [
    "df_emb['lang'] = df['lang']"
   ]
  },
  {
   "cell_type": "code",
   "execution_count": 5,
   "metadata": {},
   "outputs": [
    {
     "data": {
      "text/plain": [
       "en    127319\n",
       "de      2209\n",
       "Name: lang, dtype: int64"
      ]
     },
     "execution_count": 5,
     "metadata": {},
     "output_type": "execute_result"
    }
   ],
   "source": [
    "df_emb.lang.value_counts()"
   ]
  },
  {
   "cell_type": "code",
   "execution_count": 6,
   "metadata": {},
   "outputs": [
    {
     "data": {
      "application/vnd.jupyter.widget-view+json": {
       "model_id": "c44bca16e6734bfd84a2d968ef40ce5f",
       "version_major": 2,
       "version_minor": 0
      },
      "text/plain": [
       "AST_EVAL DONE:   0%|          | 0/129528 [00:00<?, ?it/s]"
      ]
     },
     "metadata": {},
     "output_type": "display_data"
    }
   ],
   "source": [
    "def ast_eval(x):\n",
    "    import numpy as np\n",
    "    import torch\n",
    "    import ast\n",
    "    return torch.tensor(ast.literal_eval(x), dtype=torch.float32)\n",
    "\n",
    "df_emb[\"emb\"] = df_emb[\"emb\"].p_apply(ast_eval)"
   ]
  },
  {
   "cell_type": "code",
   "execution_count": 7,
   "metadata": {},
   "outputs": [
    {
     "data": {
      "application/vnd.jupyter.widget-view+json": {
       "model_id": "50af5612d2094cdca0c55b23c1d83924",
       "version_major": 2,
       "version_minor": 0
      },
      "text/plain": [
       "GET_TOPICS DONE:   0%|          | 0/129528 [00:00<?, ?it/s]"
      ]
     },
     "metadata": {},
     "output_type": "display_data"
    }
   ],
   "source": [
    "df[\"topics_technology\"] = df_emb.p_apply(get_topics, technical=True, axis=1)"
   ]
  },
  {
   "cell_type": "code",
   "execution_count": 8,
   "metadata": {},
   "outputs": [
    {
     "data": {
      "application/vnd.jupyter.widget-view+json": {
       "model_id": "1ea42e61c0f348c0a94332bdce60e2c5",
       "version_major": 2,
       "version_minor": 0
      },
      "text/plain": [
       "GET_TOPICS DONE:   0%|          | 0/129528 [00:00<?, ?it/s]"
      ]
     },
     "metadata": {},
     "output_type": "display_data"
    }
   ],
   "source": [
    "df[\"topics_usecase\"] = df_emb[[\"emb\", \"lang\"]].p_apply(get_topics, technical=False, axis=1)"
   ]
  },
  {
   "cell_type": "code",
   "execution_count": 9,
   "metadata": {},
   "outputs": [],
   "source": [
    "df = df[(df.topics_usecase.apply(lambda x: x != [])) | (df.topics_usecase.apply(lambda x: x != []))]"
   ]
  },
  {
   "cell_type": "code",
   "execution_count": null,
   "metadata": {},
   "outputs": [],
   "source": [
    "df.to_csv(\"../data_output/bertopic_result.csv\", index=False)"
   ]
  }
 ],
 "metadata": {
  "kernelspec": {
   "display_name": "ml_angew_programm",
   "language": "python",
   "name": "python3"
  },
  "language_info": {
   "codemirror_mode": {
    "name": "ipython",
    "version": 3
   },
   "file_extension": ".py",
   "mimetype": "text/x-python",
   "name": "python",
   "nbconvert_exporter": "python",
   "pygments_lexer": "ipython3",
   "version": "3.8.19"
  }
 },
 "nbformat": 4,
 "nbformat_minor": 2
}
