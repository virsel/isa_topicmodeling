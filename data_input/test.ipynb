{
 "cells": [
  {
   "cell_type": "code",
   "execution_count": 1,
   "metadata": {},
   "outputs": [],
   "source": [
    "import pandas as pd\n",
    "\n",
    "df = pd.read_csv('data_corpus.csv')"
   ]
  },
  {
   "cell_type": "code",
   "execution_count": 2,
   "metadata": {},
   "outputs": [
    {
     "data": {
      "text/html": [
       "<div>\n",
       "<style scoped>\n",
       "    .dataframe tbody tr th:only-of-type {\n",
       "        vertical-align: middle;\n",
       "    }\n",
       "\n",
       "    .dataframe tbody tr th {\n",
       "        vertical-align: top;\n",
       "    }\n",
       "\n",
       "    .dataframe thead th {\n",
       "        text-align: right;\n",
       "    }\n",
       "</style>\n",
       "<table border=\"1\" class=\"dataframe\">\n",
       "  <thead>\n",
       "    <tr style=\"text-align: right;\">\n",
       "      <th></th>\n",
       "      <th>id</th>\n",
       "      <th>pub_date</th>\n",
       "      <th>region</th>\n",
       "      <th>lang</th>\n",
       "      <th>ipc</th>\n",
       "      <th>text_preproc1</th>\n",
       "    </tr>\n",
       "  </thead>\n",
       "  <tbody>\n",
       "    <tr>\n",
       "      <th>102551</th>\n",
       "      <td>CN000216759317U</td>\n",
       "      <td>2022-06</td>\n",
       "      <td>eastasia</td>\n",
       "      <td>en</td>\n",
       "      <td>GRINDING; POLISHING</td>\n",
       "      <td>Automatic grabbing and grinding device for tun...</td>\n",
       "    </tr>\n",
       "    <tr>\n",
       "      <th>51544</th>\n",
       "      <td>CN000116061888A</td>\n",
       "      <td>2023-05</td>\n",
       "      <td>eastasia</td>\n",
       "      <td>en</td>\n",
       "      <td>VEHICLES IN GENERAL</td>\n",
       "      <td>Automatic hydrogenation equipment. The inventi...</td>\n",
       "    </tr>\n",
       "    <tr>\n",
       "      <th>68322</th>\n",
       "      <td>CN000218398102U</td>\n",
       "      <td>2023-01</td>\n",
       "      <td>eastasia</td>\n",
       "      <td>en</td>\n",
       "      <td>HAND TOOLS; PORTABLE POWER-DRIVEN TOOLS; HANDL...</td>\n",
       "      <td>Explosion proof rail hanging robot. The utilit...</td>\n",
       "    </tr>\n",
       "  </tbody>\n",
       "</table>\n",
       "</div>"
      ],
      "text/plain": [
       "                     id pub_date    region lang  \\\n",
       "102551  CN000216759317U  2022-06  eastasia   en   \n",
       "51544   CN000116061888A  2023-05  eastasia   en   \n",
       "68322   CN000218398102U  2023-01  eastasia   en   \n",
       "\n",
       "                                                      ipc  \\\n",
       "102551                                GRINDING; POLISHING   \n",
       "51544                                 VEHICLES IN GENERAL   \n",
       "68322   HAND TOOLS; PORTABLE POWER-DRIVEN TOOLS; HANDL...   \n",
       "\n",
       "                                            text_preproc1  \n",
       "102551  Automatic grabbing and grinding device for tun...  \n",
       "51544   Automatic hydrogenation equipment. The inventi...  \n",
       "68322   Explosion proof rail hanging robot. The utilit...  "
      ]
     },
     "execution_count": 2,
     "metadata": {},
     "output_type": "execute_result"
    }
   ],
   "source": [
    "df.sample(3)"
   ]
  },
  {
   "cell_type": "code",
   "execution_count": 3,
   "metadata": {},
   "outputs": [
    {
     "data": {
      "text/html": [
       "<div>\n",
       "<style scoped>\n",
       "    .dataframe tbody tr th:only-of-type {\n",
       "        vertical-align: middle;\n",
       "    }\n",
       "\n",
       "    .dataframe tbody tr th {\n",
       "        vertical-align: top;\n",
       "    }\n",
       "\n",
       "    .dataframe thead th {\n",
       "        text-align: right;\n",
       "    }\n",
       "</style>\n",
       "<table border=\"1\" class=\"dataframe\">\n",
       "  <thead>\n",
       "    <tr style=\"text-align: right;\">\n",
       "      <th></th>\n",
       "      <th>id</th>\n",
       "      <th>emb</th>\n",
       "      <th>emb_reduced</th>\n",
       "    </tr>\n",
       "  </thead>\n",
       "  <tbody>\n",
       "    <tr>\n",
       "      <th>101197</th>\n",
       "      <td>CN000216660085U</td>\n",
       "      <td>[0.017826734110713005, -0.037727076560258865, ...</td>\n",
       "      <td>[-1.1631135940551758, 2.1002652645111084, 9.71...</td>\n",
       "    </tr>\n",
       "    <tr>\n",
       "      <th>90034</th>\n",
       "      <td>US000011400592B2</td>\n",
       "      <td>[0.045627132058143616, -0.02080491930246353, -...</td>\n",
       "      <td>[2.224381923675537, 1.9520052671432495, 8.6195...</td>\n",
       "    </tr>\n",
       "    <tr>\n",
       "      <th>46399</th>\n",
       "      <td>CN000116363208A</td>\n",
       "      <td>[0.061107341200113297, -0.021559668704867363, ...</td>\n",
       "      <td>[-0.5564226508140564, 0.6608595848083496, 11.8...</td>\n",
       "    </tr>\n",
       "  </tbody>\n",
       "</table>\n",
       "</div>"
      ],
      "text/plain": [
       "                      id                                                emb  \\\n",
       "101197   CN000216660085U  [0.017826734110713005, -0.037727076560258865, ...   \n",
       "90034   US000011400592B2  [0.045627132058143616, -0.02080491930246353, -...   \n",
       "46399    CN000116363208A  [0.061107341200113297, -0.021559668704867363, ...   \n",
       "\n",
       "                                              emb_reduced  \n",
       "101197  [-1.1631135940551758, 2.1002652645111084, 9.71...  \n",
       "90034   [2.224381923675537, 1.9520052671432495, 8.6195...  \n",
       "46399   [-0.5564226508140564, 0.6608595848083496, 11.8...  "
      ]
     },
     "execution_count": 3,
     "metadata": {},
     "output_type": "execute_result"
    }
   ],
   "source": [
    "df_emb = pd.read_csv('dataemb_corpus.csv')\n",
    "df_emb.sample(3)"
   ]
  }
 ],
 "metadata": {
  "kernelspec": {
   "display_name": "ml_angew_programm",
   "language": "python",
   "name": "python3"
  },
  "language_info": {
   "codemirror_mode": {
    "name": "ipython",
    "version": 3
   },
   "file_extension": ".py",
   "mimetype": "text/x-python",
   "name": "python",
   "nbconvert_exporter": "python",
   "pygments_lexer": "ipython3",
   "version": "3.8.19"
  }
 },
 "nbformat": 4,
 "nbformat_minor": 2
}
